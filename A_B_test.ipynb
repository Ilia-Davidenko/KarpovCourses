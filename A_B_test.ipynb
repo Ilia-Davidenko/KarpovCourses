{
 "cells": [
  {
   "cell_type": "markdown",
   "id": "4b35d023-8138-4274-8cbd-96cfa57605cc",
   "metadata": {},
   "source": [
    "Пришло время проанализировать результаты эксперимента, который мы провели вместе с командой дата сайентистов. Эксперимент проходил с 2024-01-26 по 2024-02-01 включительно. Для эксперимента были задействованы 2 и 1 группы. \n",
    "\n",
    "В группе 2 был использован один из новых алгоритмов рекомендации постов, группа 1 использовалась в качестве контроля. \n",
    "\n",
    "Основная гипотеза заключается в том, что новый алгоритм во 2-й группе приведет к увеличению CTR. \n",
    "\n",
    "Ваша задача — проанализировать данные А/B-теста. \n",
    "\n",
    "- Выбрать метод анализа и сравнить CTR в двух группах (мы разбирали t-тест, Пуассоновский бутстреп, тест Манна-Уитни, t-тест на сглаженном ctr (α=5) а также t-тест и тест Манна-Уитни поверх бакетного преобразования).\n",
    "- Сравните данные этими тестами. А еще посмотрите на распределения глазами. Почему тесты сработали именно так? \n",
    "- Опишите потенциальную ситуацию, когда такое изменение могло произойти. Тут нет идеального ответа, подумайте.\n",
    "- Напишите рекомендацию, будем ли мы раскатывать новый алгоритм на всех новых пользователей или все-таки не стоит."
   ]
  },
  {
   "cell_type": "code",
   "execution_count": 25,
   "id": "ada83e03-5715-4394-b1be-982fa75aae16",
   "metadata": {},
   "outputs": [],
   "source": [
    "import pandahouse\n",
    "from scipy import stats\n",
    "import matplotlib.pyplot as plt\n",
    "import seaborn as sns\n",
    "import numpy as np"
   ]
  },
  {
   "cell_type": "code",
   "execution_count": 14,
   "id": "221c5789-5d27-4aa2-a714-2f2fff567443",
   "metadata": {},
   "outputs": [],
   "source": [
    "connection = {\n",
    "    'host': 'https://clickhouse.lab.karpov.courses',\n",
    "    'password': 'dpo_python_2020',\n",
    "    'user': 'student',\n",
    "    'database': 'simulator_'\n",
    "}\n"
   ]
  },
  {
   "cell_type": "code",
   "execution_count": 51,
   "id": "6b216816-0222-4d67-b60b-7e3b7d928d66",
   "metadata": {},
   "outputs": [
    {
     "data": {
      "text/html": [
       "<div>\n",
       "<style scoped>\n",
       "    .dataframe tbody tr th:only-of-type {\n",
       "        vertical-align: middle;\n",
       "    }\n",
       "\n",
       "    .dataframe tbody tr th {\n",
       "        vertical-align: top;\n",
       "    }\n",
       "\n",
       "    .dataframe thead th {\n",
       "        text-align: right;\n",
       "    }\n",
       "</style>\n",
       "<table border=\"1\" class=\"dataframe\">\n",
       "  <thead>\n",
       "    <tr style=\"text-align: right;\">\n",
       "      <th></th>\n",
       "      <th>exp_group</th>\n",
       "      <th>user_id</th>\n",
       "      <th>like</th>\n",
       "      <th>view</th>\n",
       "      <th>ctr</th>\n",
       "    </tr>\n",
       "  </thead>\n",
       "  <tbody>\n",
       "    <tr>\n",
       "      <th>0</th>\n",
       "      <td>1</td>\n",
       "      <td>109963</td>\n",
       "      <td>3</td>\n",
       "      <td>15</td>\n",
       "      <td>0.200000</td>\n",
       "    </tr>\n",
       "    <tr>\n",
       "      <th>1</th>\n",
       "      <td>1</td>\n",
       "      <td>26117</td>\n",
       "      <td>32</td>\n",
       "      <td>141</td>\n",
       "      <td>0.226950</td>\n",
       "    </tr>\n",
       "    <tr>\n",
       "      <th>2</th>\n",
       "      <td>1</td>\n",
       "      <td>138232</td>\n",
       "      <td>18</td>\n",
       "      <td>73</td>\n",
       "      <td>0.246575</td>\n",
       "    </tr>\n",
       "    <tr>\n",
       "      <th>3</th>\n",
       "      <td>1</td>\n",
       "      <td>18392</td>\n",
       "      <td>7</td>\n",
       "      <td>32</td>\n",
       "      <td>0.218750</td>\n",
       "    </tr>\n",
       "    <tr>\n",
       "      <th>4</th>\n",
       "      <td>1</td>\n",
       "      <td>26295</td>\n",
       "      <td>29</td>\n",
       "      <td>109</td>\n",
       "      <td>0.266055</td>\n",
       "    </tr>\n",
       "  </tbody>\n",
       "</table>\n",
       "</div>"
      ],
      "text/plain": [
       "   exp_group  user_id  like  view       ctr\n",
       "0          1   109963     3    15  0.200000\n",
       "1          1    26117    32   141  0.226950\n",
       "2          1   138232    18    73  0.246575\n",
       "3          1    18392     7    32  0.218750\n",
       "4          1    26295    29   109  0.266055"
      ]
     },
     "execution_count": 51,
     "metadata": {},
     "output_type": "execute_result"
    }
   ],
   "source": [
    "q = \"\"\"\n",
    "select \n",
    "    exp_group,\n",
    "    user_id,\n",
    "    sum(action = 'like') as like,\n",
    "    sum(action = 'view') as view,\n",
    "    like / view as ctr\n",
    "from simulator_20240220.feed_actions\n",
    "where time between '2024-01-26' and '2024-02-01' and exp_group in (1, 2)\n",
    "group by user_id, exp_group\n",
    "\"\"\"\n",
    "\n",
    "df = pandahouse.read_clickhouse(q, connection=connection)\n",
    "df.head()"
   ]
  },
  {
   "cell_type": "code",
   "execution_count": 66,
   "id": "5bd7e547-2b9c-44d1-8b93-539c55230a98",
   "metadata": {},
   "outputs": [
    {
     "data": {
      "text/plain": [
       "<Axes: xlabel='ctr', ylabel='Count'>"
      ]
     },
     "execution_count": 66,
     "metadata": {},
     "output_type": "execute_result"
    },
    {
     "data": {
      "image/png": "[encoded data removed]",
      "text/plain": [
       "<Figure size 842.4x595.44 with 1 Axes>"
      ]
     },
     "metadata": {},
     "output_type": "display_data"
    }
   ],
   "source": [
    "#Посмотрим график распределения ctr двух групп\n",
    "\n",
    "sns.set(rc={'figure.figsize':(11.7, 8.27)})\n",
    "sns.histplot(data = df,\n",
    "            x = 'ctr',\n",
    "            hue = 'exp_group',\n",
    "            palette = ['r', 'b'],\n",
    "            alpha = 0.5,\n",
    "            kde = False)"
   ]
  },
  {
   "cell_type": "markdown",
   "id": "1186c58c-6a81-4516-8570-f5172dd6fbfe",
   "metadata": {},
   "source": [
    "**График распределения ctr говорит о разном поведении в группах: в группе 1 нормальное распределение, а во 2-й оно делится на две подгуппы, \"разрываясь\" в районе 0.2ctr**"
   ]
  },
  {
   "cell_type": "code",
   "execution_count": 23,
   "id": "9b4293d7-0fd5-4603-b021-0d7c86edd9bb",
   "metadata": {},
   "outputs": [
    {
     "data": {
      "text/plain": [
       "Ttest_indResult(statistic=0.5362098121273291, pvalue=0.5918218427419477)"
      ]
     },
     "execution_count": 23,
     "metadata": {},
     "output_type": "execute_result"
    }
   ],
   "source": [
    "#Проведем t-test\n",
    "\n",
    "stats.ttest_ind(df[df.exp_group == 1].ctr,\n",
    "               df[df.exp_group == 2].ctr,\n",
    "               equal_var=False)"
   ]
  },
  {
   "cell_type": "markdown",
   "id": "4d4fa4b3-b2a3-4994-975a-91a1a509e447",
   "metadata": {},
   "source": [
    "**T-test не заметил разницу между группами, p_value = 0.59**"
   ]
  },
  {
   "cell_type": "code",
   "execution_count": 24,
   "id": "2289e737-9f51-4dd7-a996-4f5929797115",
   "metadata": {},
   "outputs": [
    {
     "data": {
      "text/plain": [
       "MannwhitneyuResult(statistic=49702070.0, pvalue=3.4218087630007513e-67)"
      ]
     },
     "execution_count": 24,
     "metadata": {},
     "output_type": "execute_result"
    }
   ],
   "source": [
    "#Тест Манна-Уитни\n",
    "\n",
    "stats.mannwhitneyu(df[df.exp_group == 1].ctr,\n",
    "                   df[df.exp_group == 2].ctr)"
   ]
  },
  {
   "cell_type": "markdown",
   "id": "5ca62f79-4a14-4d71-90df-fbe1aba1877f",
   "metadata": {},
   "source": [
    "**Исследование по Манну-Уитни заметило существенную разницу в ctr между нашими группами, p_value стремится к нулю**"
   ]
  },
  {
   "cell_type": "code",
   "execution_count": 49,
   "id": "4dd5872c-1b6a-4683-843b-b3a21660fc03",
   "metadata": {},
   "outputs": [],
   "source": [
    "#Пуассоновский бутстреп\n",
    "\n",
    "def bootstrap(likes1, views1, likes2, views2, n_bootstrap = 2000):\n",
    "    poisson_bootstrap1 = stats.poisson(1).rvs((n_bootstrap, len(likes1))).astype(np.int64)\n",
    "    poisson_bootstrap2 = stats.poisson(1).rvs((n_bootstrap, len(likes2))).astype(np.int64)\n",
    "    global_ctr1 = (poisson_bootstrap1 * likes1).sum(axis=1) / (poisson_bootstrap1 * views1).sum(axis=1)\n",
    "    global_ctr2 = (poisson_bootstrap2 * likes2).sum(axis=1) / (poisson_bootstrap2 * views2).sum(axis=1)\n",
    "    return global_ctr1, global_ctr2"
   ]
  },
  {
   "cell_type": "code",
   "execution_count": 52,
   "id": "09206efe-038b-410e-9447-1210d4e4e009",
   "metadata": {},
   "outputs": [],
   "source": [
    "likes1 = df[df.exp_group == 1].like.to_numpy()\n",
    "views1 = df[df.exp_group == 1].view.to_numpy()\n",
    "likes2 = df[df.exp_group == 2].like.to_numpy()\n",
    "views2 = df[df.exp_group == 2].view.to_numpy()"
   ]
  },
  {
   "cell_type": "code",
   "execution_count": 53,
   "id": "7207520b-b57e-4cc8-bd96-c595b7a2e4e4",
   "metadata": {},
   "outputs": [],
   "source": [
    "ctr1, ctr2 = bootstrap(likes1, views1, likes2, views2)"
   ]
  },
  {
   "cell_type": "code",
   "execution_count": 54,
   "id": "6de28010-f3f2-4b01-90b2-ee2751c67601",
   "metadata": {},
   "outputs": [
    {
     "data": {
      "text/plain": [
       "<Axes: ylabel='Count'>"
      ]
     },
     "execution_count": 54,
     "metadata": {},
     "output_type": "execute_result"
    },
    {
     "data": {
      "image/png": "[encoded data removed]",
      "text/plain": [
       "<Figure size 842.4x595.44 with 1 Axes>"
      ]
     },
     "metadata": {},
     "output_type": "display_data"
    }
   ],
   "source": [
    "sns.histplot(ctr1)\n",
    "sns.histplot(ctr2)"
   ]
  },
  {
   "cell_type": "code",
   "execution_count": 55,
   "id": "a2eed1e5-9ab9-444a-8812-4cbdca4cbedf",
   "metadata": {},
   "outputs": [
    {
     "data": {
      "text/plain": [
       "<Axes: ylabel='Count'>"
      ]
     },
     "execution_count": 55,
     "metadata": {},
     "output_type": "execute_result"
    },
    {
     "data": {
      "image/png": "[encoded data removed]",
      "text/plain": [
       "<Figure size 842.4x595.44 with 1 Axes>"
      ]
     },
     "metadata": {},
     "output_type": "display_data"
    }
   ],
   "source": [
    "sns.histplot(ctr1 - ctr2)"
   ]
  },
  {
   "cell_type": "markdown",
   "id": "6ba376a6-50f8-4503-a684-62a5be085992",
   "metadata": {},
   "source": [
    "**Исследование двух групп по Пуассоновскому бутстрепу показало, что ctr первой, контрольной, группы строго больше, чем ctr второй, исследуемой, группы**"
   ]
  },
  {
   "cell_type": "code",
   "execution_count": 58,
   "id": "0511dc15-3ad7-4cc6-b3f3-b3300bfc0457",
   "metadata": {},
   "outputs": [],
   "source": [
    "#T-test со сглаженным CTR\n",
    "#Функция для сглаживания CTR\n",
    "\n",
    "def get_smothed_ctr(user_likes, user_views, global_ctr, alpha):\n",
    "    smothed_ctr = (user_likes + alpha * global_ctr) / (user_views + alpha)\n",
    "    return smothed_ctr"
   ]
  },
  {
   "cell_type": "code",
   "execution_count": 57,
   "id": "3ec424e7-2a0c-491f-b680-419b6162a8a3",
   "metadata": {},
   "outputs": [],
   "source": [
    "#Считаем общий ctr для обеих групп\n",
    "\n",
    "global_ctr1 = df[df.exp_group == 1].like.sum() / df[df.exp_group == 1].view.sum()\n",
    "global_ctr2 = df[df.exp_group == 2].like.sum() / df[df.exp_group == 2].view.sum()"
   ]
  },
  {
   "cell_type": "code",
   "execution_count": 73,
   "id": "51432bdf-2bf1-4c54-99e5-b1ff43e43bb8",
   "metadata": {},
   "outputs": [],
   "source": [
    "#Создаем копию датафрейма с пользователями из первой и второй групп\n",
    "\n",
    "group1 = df[df.exp_group == 1].copy()\n",
    "group2 = df[df.exp_group == 2].copy()"
   ]
  },
  {
   "cell_type": "code",
   "execution_count": 74,
   "id": "a3f99fd7-3fc4-4632-b9cd-f5c058d20c1c",
   "metadata": {},
   "outputs": [
    {
     "name": "stderr",
     "output_type": "stream",
     "text": [
      "/tmp/ipykernel_54/1247024139.py:1: UserWarning: \n",
      "\n",
      "`distplot` is a deprecated function and will be removed in seaborn v0.14.0.\n",
      "\n",
      "Please adapt your code to use either `displot` (a figure-level function with\n",
      "similar flexibility) or `histplot` (an axes-level function for histograms).\n",
      "\n",
      "For a guide to updating your code to use the new functions, please see\n",
      "https://gist.github.com/mwaskom/de44147ed2974457ad6372750bbe5751\n",
      "\n",
      "  sns.distplot(group1.ctr, kde = False)\n"
     ]
    },
    {
     "data": {
      "text/plain": [
       "<Axes: xlabel='ctr'>"
      ]
     },
     "execution_count": 74,
     "metadata": {},
     "output_type": "execute_result"
    },
    {
     "data": {
      "image/png": "[encoded data removed]",
      "text/plain": [
       "<Figure size 842.4x595.44 with 1 Axes>"
      ]
     },
     "metadata": {},
     "output_type": "display_data"
    }
   ],
   "source": [
    "sns.distplot(group1.ctr, kde = False)"
   ]
  },
  {
   "cell_type": "code",
   "execution_count": 70,
   "id": "8537a29b-18ec-4937-907d-fc34f9dcf1e6",
   "metadata": {},
   "outputs": [
    {
     "name": "stderr",
     "output_type": "stream",
     "text": [
      "/tmp/ipykernel_54/3173137597.py:1: UserWarning: \n",
      "\n",
      "`distplot` is a deprecated function and will be removed in seaborn v0.14.0.\n",
      "\n",
      "Please adapt your code to use either `displot` (a figure-level function with\n",
      "similar flexibility) or `histplot` (an axes-level function for histograms).\n",
      "\n",
      "For a guide to updating your code to use the new functions, please see\n",
      "https://gist.github.com/mwaskom/de44147ed2974457ad6372750bbe5751\n",
      "\n",
      "  sns.distplot(group2.ctr, kde = False)\n"
     ]
    },
    {
     "data": {
      "text/plain": [
       "<Axes: xlabel='ctr'>"
      ]
     },
     "execution_count": 70,
     "metadata": {},
     "output_type": "execute_result"
    },
    {
     "data": {
      "image/png": "[encoded data removed]",
      "text/plain": [
       "<Figure size 842.4x595.44 with 1 Axes>"
      ]
     },
     "metadata": {},
     "output_type": "display_data"
    }
   ],
   "source": [
    "sns.distplot(group2.ctr, kde = False)"
   ]
  },
  {
   "cell_type": "code",
   "execution_count": 80,
   "id": "d9dccbb6-6504-4adf-848d-4b916e05fa85",
   "metadata": {},
   "outputs": [],
   "source": [
    "#Применяем функцию сглаживания для новых датафреймов\n",
    "\n",
    "group1['smothed_ctr'] = df.apply(lambda x: get_smothed_ctr(x['like'], x['view'], global_ctr1, 5), axis=1)\n",
    "group2['smothed_ctr'] = df.apply(lambda x: get_smothed_ctr(x['like'], x['view'], global_ctr2, 5), axis=1)"
   ]
  },
  {
   "cell_type": "code",
   "execution_count": 81,
   "id": "555be934-6f9d-44dc-a246-cfe334a330ad",
   "metadata": {},
   "outputs": [
    {
     "data": {
      "text/plain": [
       "<seaborn.axisgrid.FacetGrid at 0x7f60d2942400>"
      ]
     },
     "execution_count": 81,
     "metadata": {},
     "output_type": "execute_result"
    },
    {
     "data": {
      "image/png": "[encoded data removed]",
      "text/plain": [
       "<Figure size 360x360 with 1 Axes>"
      ]
     },
     "metadata": {},
     "output_type": "display_data"
    }
   ],
   "source": [
    "sns.displot(group1.smothed_ctr, kde = False)"
   ]
  },
  {
   "cell_type": "code",
   "execution_count": 82,
   "id": "2f8938ae-b25a-4326-9800-5c40ff91428b",
   "metadata": {},
   "outputs": [
    {
     "data": {
      "text/plain": [
       "<seaborn.axisgrid.FacetGrid at 0x7f60cfc16a60>"
      ]
     },
     "execution_count": 82,
     "metadata": {},
     "output_type": "execute_result"
    },
    {
     "data": {
      "image/png": "[encoded data removed]",
      "text/plain": [
       "<Figure size 360x360 with 1 Axes>"
      ]
     },
     "metadata": {},
     "output_type": "display_data"
    }
   ],
   "source": [
    "sns.displot(group2.smothed_ctr, kde = False)"
   ]
  },
  {
   "cell_type": "code",
   "execution_count": 84,
   "id": "3090b812-127b-4bee-abf6-f07debd042a8",
   "metadata": {},
   "outputs": [
    {
     "data": {
      "text/plain": [
       "Ttest_indResult(statistic=2.3999590748622235, pvalue=0.016409722243995145)"
      ]
     },
     "execution_count": 84,
     "metadata": {},
     "output_type": "execute_result"
    }
   ],
   "source": [
    "#Проводим t-test с нашими новыми группами\n",
    "\n",
    "stats.ttest_ind(group1.smothed_ctr,\n",
    "               group2.smothed_ctr,\n",
    "               equal_var=False)"
   ]
  },
  {
   "cell_type": "markdown",
   "id": "feb63181-b08f-4170-b28e-69aabc1e3c00",
   "metadata": {},
   "source": [
    "**T-test со сглаживаем показал статистически значимые отличия между исследуемыми группами с p_value 0.016**"
   ]
  },
  {
   "cell_type": "code",
   "execution_count": 92,
   "id": "d29c864e-6fdc-43a4-ae59-7a9c3003caf5",
   "metadata": {},
   "outputs": [],
   "source": [
    "#Бакетное преобразование \n",
    "\n",
    "qq = \"\"\"\n",
    "\n",
    "SELECT \n",
    "    exp_group, \n",
    "    bucket,\n",
    "    sum(likes)/sum(views) as bucket_ctr,\n",
    "    quantileExact(0.9)(ctr) as ctr9\n",
    "FROM (SELECT \n",
    "        exp_group, \n",
    "        xxHash64(user_id)%50 as bucket,\n",
    "        user_id,\n",
    "        sum(action = 'like') as likes,\n",
    "        sum(action = 'view') as views,\n",
    "        likes/views as ctr\n",
    "    FROM simulator_20240220.feed_actions \n",
    "    WHERE toDate(time) between '2024-01-26' and '2024-02-01' and exp_group in (1,2)\n",
    "    GROUP BY exp_group, bucket, user_id)\n",
    "GROUP BY exp_group, bucket\n",
    "\"\"\"\n",
    "\n",
    "df_buck = pandahouse.read_clickhouse(qq, connection=connection)"
   ]
  },
  {
   "cell_type": "code",
   "execution_count": 93,
   "id": "71c6562a-6936-4dc8-8141-97d46b752bd4",
   "metadata": {},
   "outputs": [
    {
     "data": {
      "text/plain": [
       "MannwhitneyuResult(statistic=1997.0, pvalue=2.6576427804010095e-07)"
      ]
     },
     "execution_count": 93,
     "metadata": {},
     "output_type": "execute_result"
    }
   ],
   "source": [
    "#С помощью теста Манна-Уитни\n",
    "\n",
    "stats.mannwhitneyu(df_buck[df_buck.exp_group == 1].bucket_ctr, \n",
    "                   df_buck[df_buck.exp_group == 2].bucket_ctr, \n",
    "                   alternative = 'two-sided')"
   ]
  },
  {
   "cell_type": "markdown",
   "id": "f5ae8aa8-d510-42bf-b378-f89995a175ea",
   "metadata": {},
   "source": [
    "**Тест Манна-Уитни с бакетным преобразованием видит статистически значимые различия между группами, p_value меньше 0.05**"
   ]
  },
  {
   "cell_type": "code",
   "execution_count": 95,
   "id": "3534db4c-9a5b-4d0b-b39d-35b7867bceef",
   "metadata": {},
   "outputs": [
    {
     "data": {
      "text/plain": [
       "Ttest_indResult(statistic=5.614819358149381, pvalue=4.592644937473873e-07)"
      ]
     },
     "execution_count": 95,
     "metadata": {},
     "output_type": "execute_result"
    }
   ],
   "source": [
    "#С помощью t-test\n",
    "\n",
    "stats.ttest_ind(df_buck[df_buck.exp_group == 1].bucket_ctr,\n",
    "           df_buck[df_buck.exp_group == 2].bucket_ctr,\n",
    "           equal_var = False)"
   ]
  },
  {
   "cell_type": "markdown",
   "id": "e61fd181-008d-4284-b431-547e01adac8d",
   "metadata": {},
   "source": [
    "**T-test с бакетным преобразованием так же увидет статистически значимые различия между исследуемыми группами**"
   ]
  },
  {
   "cell_type": "markdown",
   "id": "60a706f4-a99d-46a1-afd9-85e7097b1fad",
   "metadata": {},
   "source": [
    "## Выводы по исследованию\n",
    "\n",
    "Новый алгоритм рекомендации постов уронил CTR в своей экспериментальной группе. Насколько можно видеть по графикам - он работает некорректно. Есть предположение, что он предлагает рекомендации не по интересам пользователей, а посты какой-то одной похожей тематики, что может быть оправдано провалом метрики CTR на уровне около 0.2: эта тема либо очень нравится части пользователей (CTR > 0.3), либо, в большей степени, не интересна и ее не лайкают (CTR < 0.2).  \n",
    "**Я бы не рекомендовал раскатывать новый алгоритм на основу, он требует доработки**"
   ]
  }
 ],
 "metadata": {
  "kernelspec": {
   "display_name": "Python 3 (ipykernel)",
   "language": "python",
   "name": "python3"
  },
  "language_info": {
   "codemirror_mode": {
    "name": "ipython",
    "version": 3
   },
   "file_extension": ".py",
   "mimetype": "text/x-python",
   "name": "python",
   "nbconvert_exporter": "python",
   "pygments_lexer": "ipython3",
   "version": "3.8.10"
  }
 },
 "nbformat": 4,
 "nbformat_minor": 5
}
